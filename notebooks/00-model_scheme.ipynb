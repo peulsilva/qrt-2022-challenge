{
 "cells": [
  {
   "cell_type": "markdown",
   "metadata": {},
   "source": [
    "* $N$ stocks\n",
    "* $R_{t} \\in \\mathbb{R}^N$: returns vector\n",
    "* $ S_{t} \\in \\mathbb{R}^N: $ prediction vector\n",
    "* $ F_{t, l} \\in \\mathbb{R} ^N$ : feature $l$ at an instant $t$\n",
    "* $ \\beta_{l} \\in \\mathbb{R}$: treinable param for feature $l$"
   ]
  },
  {
   "cell_type": "markdown",
   "metadata": {},
   "source": [
    "$$ S_{t+1} := \\sum_{l =1} ^{10} \\beta_{l} F_{t,l} $$"
   ]
  },
  {
   "cell_type": "markdown",
   "metadata": {},
   "source": [
    "$$ F_{t, l} = \\sum_{k =1}^{D} A_{kl} R_{t+1 - k}"
   ]
  },
  {
   "cell_type": "markdown",
   "metadata": {},
   "source": [
    "$ D = 250 $ : number of days in lookback window\n",
    "\n",
    "$ F = 10 :$ number of features "
   ]
  },
  {
   "cell_type": "markdown",
   "metadata": {},
   "source": [
    "## Returns"
   ]
  },
  {
   "cell_type": "markdown",
   "metadata": {},
   "source": [
    "* $ A \\in \\mathbb{R}^{250 \\times 10} = [A_{1}, \\ \\dots , \\ A_{10}] $\n",
    "\n",
    "    $ A_1, \\ \\dots, \\ A_{10} \\in \\mathbb{R}^{250}$, \n",
    "    $A_{i}, \\ A_{j} $ are orthogonal\n",
    "\n",
    "PS: $A$ can be a mix of diverse momentum strategies  \n",
    "\n",
    "* $ B = [B_1 , \\ \\dots, \\ B_{10}] $ : features vector\n",
    "\n",
    "    $ B_1, \\ \\dots, \\ B_{10} \\in \\mathbb{R}$"
   ]
  }
 ],
 "metadata": {
  "kernelspec": {
   "display_name": "Python 3.8.7 64-bit",
   "language": "python",
   "name": "python3"
  },
  "language_info": {
   "name": "python",
   "version": "3.8.7"
  },
  "orig_nbformat": 4,
  "vscode": {
   "interpreter": {
    "hash": "f544ce1a915a9875fad91c894e2c0bcad4b7a79945aa6027ef3ad27810072aa6"
   }
  }
 },
 "nbformat": 4,
 "nbformat_minor": 2
}
